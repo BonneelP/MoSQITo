{
 "cells": [
  {
   "cell_type": "markdown",
   "metadata": {
    "toc": true
   },
   "source": [
    "<h1>Table of Contents<span class=\"tocSkip\"></span></h1>\n",
    "<div class=\"toc\"><ul class=\"toc-item\"><li><span><a href=\"#By-using-the-scripting-interface\" data-toc-modified-id=\"By-using-the-scripting-interface-1\"><span class=\"toc-item-num\">1&nbsp;&nbsp;</span>By using the scripting interface</a></span><ul class=\"toc-item\"><li><span><a href=\"#Time-varying-signal\" data-toc-modified-id=\"Time-varying-signal-1.1\"><span class=\"toc-item-num\">1.1&nbsp;&nbsp;</span>Time varying signal</a></span></li><li><span><a href=\"#Steady-signal\" data-toc-modified-id=\"Steady-signal-1.2\"><span class=\"toc-item-num\">1.2&nbsp;&nbsp;</span>Steady signal</a></span></li></ul></li><li><span><a href=\"#By-using-the-funtion-library\" data-toc-modified-id=\"By-using-the-funtion-library-2\"><span class=\"toc-item-num\">2&nbsp;&nbsp;</span>By using the funtion library</a></span><ul class=\"toc-item\"><li><span><a href=\"#Time-varying-signal\" data-toc-modified-id=\"Time-varying-signal-2.1\"><span class=\"toc-item-num\">2.1&nbsp;&nbsp;</span>Time varying signal</a></span></li><li><span><a href=\"#Steady-signal\" data-toc-modified-id=\"Steady-signal-2.2\"><span class=\"toc-item-num\">2.2&nbsp;&nbsp;</span>Steady signal</a></span></li></ul></li></ul></div>"
   ]
  },
  {
   "cell_type": "markdown",
   "metadata": {},
   "source": [
    "\n",
    "# How to compute acoustic Sharpness \n",
    "This tutorial explains how to use MOSQITO to compute the acoustic sharpness of a signal. Two approaches are possible: scripting interface and function library. The users that just need to compute SQ metrics should preferably use the scripting interface approach. The function library approach is dedicated to the users that would like to integrate MOSQITO functions in another software for instance.\n",
    "\n",
    "## By using the scripting interface\n",
    "### Time varying signal\n",
    "An Audio object is first created by importing an audio file. In this example, the signal is imported from a .wav file. The tutorial [how to import a signal](./tuto_import_signal.ipynb) gives more information about the syntax of the import and the other supported files type. Check the tutorial [Audio signal basic operations](./signal_basic_operations.ipynb) to learn how to plot the time signal, compute and plot its 1/3 octave band spectrum, compute its overall level, etc."
   ]
  },
  {
   "cell_type": "code",
   "execution_count": 1,
   "metadata": {},
   "outputs": [],
   "source": [
    "# Add MOSQITO to the Python path\n",
    "import sys\n",
    "sys.path.append('..')\n",
    "\n",
    "# Import MOSQITO color sheme [Optional]\n",
    "from mosqito import COLORS\n",
    "\n",
    "# Import Audio class\n",
    "from mosqito.classes.Audio import Audio\n",
    "\n",
    "# Create an Audio object\n",
    "woodpecker = Audio(\n",
    "    \"../mosqito/validations/loudness_zwicker/data/ISO_532-1/Annex B.5/Test signal 24 (woodpecker).wav\",\n",
    "    calib=2 * 2 ** 0.5,\n",
    ")"
   ]
  },
  {
   "cell_type": "markdown",
   "metadata": {},
   "source": [
    "The acoustic sharpness is computed using the following command line. The function takes 2 input arguments: \n",
    "- \"method\", that can be set to \"din\", \"bismarck, \"aures\" or \"fastl\" depending on the computation method chosen,\n",
    "- \"skip\", that corresponds to the cut of the transient effect at the beginning of the signal.\n",
    "\n",
    "The Loudness to be weighted is automatically computed by using the Zwicker method (see the corresponding [documentation](../documentation/loudness-time-varying.md) for more information) "
   ]
  },
  {
   "cell_type": "code",
   "execution_count": 2,
   "metadata": {},
   "outputs": [],
   "source": [
    "woodpecker.compute_sharpness(method=\"din\", skip=0.2)"
   ]
  },
  {
   "cell_type": "markdown",
   "metadata": {},
   "source": [
    "The preceeding command computes the sharpness of the audio signal as a function of time. Its value can be plotted with the following command. The \"time\" argument indicates that the sharpness shall be plotted over time. The optional type_plot argument is obviously used to specifies the plot type (among \"curve\", \"bargraph\", \"barchart\" and \"quiver\"). The optional color_list argument is used to specify the color scheme used for the plots."
   ]
  },
  {
   "cell_type": "code",
   "execution_count": 6,
   "metadata": {},
   "outputs": [
    {
     "ename": "IndexError",
     "evalue": "list index out of range",
     "output_type": "error",
     "traceback": [
      "\u001b[1;31m---------------------------------------------------------------------------\u001b[0m",
      "\u001b[1;31mIndexError\u001b[0m                                Traceback (most recent call last)",
      "\u001b[1;32m<ipython-input-6-b9a6277ca4bc>\u001b[0m in \u001b[0;36m<module>\u001b[1;34m\u001b[0m\n\u001b[1;32m----> 1\u001b[1;33m woodpecker.sharpness[\"din\"].plot_2D_Data(\n\u001b[0m\u001b[0;32m      2\u001b[0m     \u001b[1;34m\"time\"\u001b[0m\u001b[1;33m,\u001b[0m\u001b[1;33m\u001b[0m\u001b[1;33m\u001b[0m\u001b[0m\n\u001b[0;32m      3\u001b[0m     \u001b[0mtype_plot\u001b[0m\u001b[1;33m=\u001b[0m\u001b[1;34m\"curve\"\u001b[0m\u001b[1;33m,\u001b[0m\u001b[1;33m\u001b[0m\u001b[1;33m\u001b[0m\u001b[0m\n\u001b[0;32m      4\u001b[0m     \u001b[0mcolor_list\u001b[0m\u001b[1;33m=\u001b[0m\u001b[0mCOLORS\u001b[0m\u001b[1;33m,\u001b[0m\u001b[1;33m\u001b[0m\u001b[1;33m\u001b[0m\u001b[0m\n\u001b[0;32m      5\u001b[0m )\n",
      "\u001b[1;32mc:\\users\\salomé\\documents\\scidatatool\\SciDataTool\\Methods\\DataND\\plot_2D_Data.py\u001b[0m in \u001b[0;36mplot_2D_Data\u001b[1;34m(self, is_norm, unit, data_list, legend_list, color_list, curve_colors, phase_colors, linestyles, linewidth_list, save_path, x_min, x_max, y_min, y_max, is_logscale_x, is_logscale_y, is_disp_title, is_grid, is_auto_ticks, is_auto_range, fig, ax, barwidth, type_plot, fund_harm_dict, is_show_fig, win_title, thresh, font_name, font_size_title, font_size_label, font_size_legend, *arg_list)\u001b[0m\n\u001b[0;32m    166\u001b[0m                 \u001b[0mresult_0\u001b[0m \u001b[1;33m=\u001b[0m \u001b[0mresult\u001b[0m\u001b[1;33m\u001b[0m\u001b[1;33m\u001b[0m\u001b[0m\n\u001b[0;32m    167\u001b[0m             \u001b[0mYdatas\u001b[0m\u001b[1;33m.\u001b[0m\u001b[0mappend\u001b[0m\u001b[1;33m(\u001b[0m\u001b[0mresult\u001b[0m\u001b[1;33m.\u001b[0m\u001b[0mpop\u001b[0m\u001b[1;33m(\u001b[0m\u001b[0md\u001b[0m\u001b[1;33m.\u001b[0m\u001b[0msymbol\u001b[0m\u001b[1;33m)\u001b[0m\u001b[1;33m)\u001b[0m\u001b[1;33m\u001b[0m\u001b[1;33m\u001b[0m\u001b[0m\n\u001b[1;32m--> 168\u001b[1;33m             \u001b[0mXdatas\u001b[0m\u001b[1;33m.\u001b[0m\u001b[0mappend\u001b[0m\u001b[1;33m(\u001b[0m\u001b[0mresult\u001b[0m\u001b[1;33m[\u001b[0m\u001b[0mlist\u001b[0m\u001b[1;33m(\u001b[0m\u001b[0mresult\u001b[0m\u001b[1;33m)\u001b[0m\u001b[1;33m[\u001b[0m\u001b[1;36m0\u001b[0m\u001b[1;33m]\u001b[0m\u001b[1;33m]\u001b[0m\u001b[1;33m)\u001b[0m\u001b[1;33m\u001b[0m\u001b[1;33m\u001b[0m\u001b[0m\n\u001b[0m\u001b[0;32m    169\u001b[0m \u001b[1;33m\u001b[0m\u001b[0m\n\u001b[0;32m    170\u001b[0m     \u001b[1;31m# Find main axis as the axis with the most values\u001b[0m\u001b[1;33m\u001b[0m\u001b[1;33m\u001b[0m\u001b[1;33m\u001b[0m\u001b[0m\n",
      "\u001b[1;31mIndexError\u001b[0m: list index out of range"
     ]
    }
   ],
   "source": [
    "woodpecker.sharpness[\"din\"].plot_2D_Data(\n",
    "    \"time\",\n",
    "    type_plot=\"curve\",\n",
    "    color_list=COLORS,\n",
    ")"
   ]
  },
  {
   "cell_type": "code",
   "execution_count": 5,
   "metadata": {},
   "outputs": [
    {
     "data": {
      "text/plain": [
       "False"
      ]
     },
     "execution_count": 5,
     "metadata": {},
     "output_type": "execute_result"
    }
   ],
   "source": [
    "woodpecker.is_stationary"
   ]
  },
  {
   "cell_type": "markdown",
   "metadata": {},
   "source": [
    "### Steady signal\n",
    "For a steady signal, the syntax is almost equivalent, see below."
   ]
  },
  {
   "cell_type": "code",
   "execution_count": 14,
   "metadata": {},
   "outputs": [
    {
     "name": "stdout",
     "output_type": "stream",
     "text": [
      "DIN sharpness: 3.6876236544360963 acum\n"
     ]
    }
   ],
   "source": [
    "# Create an Audio object\n",
    "bbnoise = Audio(\n",
    "    r\"..\\mosqito\\validations\\sharpness\\data\\Check_signals_DIN_45692_(Schaerfe)\\Broadband_noise(fo=10kHz_fu=variabel)\\LC2500.WAV\",\n",
    "    is_stationary=True,\n",
    ")\n",
    "\n",
    "# Compute sharpness (method is set to \"din\" by default)\n",
    "bbnoise.compute_sharpness(method=\"din\")"
   ]
  },
  {
   "cell_type": "markdown",
   "metadata": {},
   "source": [
    "## By using the funtion library\n",
    "### Time varying signal\n",
    "The commands below shows how to compute the sharpness of a time varying signal by directly using the functions from MOSQITO. "
   ]
  },
  {
   "cell_type": "code",
   "execution_count": 10,
   "metadata": {},
   "outputs": [
    {
     "data": {
      "image/png": "[encoded data removed]",
      "text/plain": [
       "<Figure size 432x288 with 1 Axes>"
      ]
     },
     "metadata": {
      "needs_background": "light"
     },
     "output_type": "display_data"
    }
   ],
   "source": [
    "# Import useful packages\n",
    "import numpy as np\n",
    "import matplotlib.pyplot as plt\n",
    "\n",
    "# Import MOSQITO functions\n",
    "from mosqito.functions.shared.load import load\n",
    "from mosqito.functions.sharpness.comp_sharpness import comp_sharpness\n",
    "\n",
    "# Load signal \n",
    "signal, fs = load(\n",
    "    False,\n",
    "    \"../mosqito/validations/loudness_zwicker/data/ISO_532-1/Annex B.5/Test signal 24 (woodpecker).wav\", \n",
    "    calib = 2 * 2**0.5 \n",
    ")\n",
    "\n",
    "# Sharpness calculation\n",
    "sharpness = comp_sharpness(False, signal, fs, method=\"din\", skip=0.2)\n",
    "\n",
    "# Plot\n",
    "S = sharpness['values']\n",
    "time = np.linspace(0,0.002*(S.size - 1),S.size)\n",
    "plt.plot(time, S)\n",
    "plt.xlabel(\"Time [s]\")\n",
    "plt.ylabel(\"Sharpness, [acum]\")\n",
    "plt.show()"
   ]
  },
  {
   "cell_type": "markdown",
   "metadata": {},
   "source": [
    "### Steady signal\n",
    "The commands below shows how to compute the sharpness of a steady signal by directly using the functions from MOSQITO. "
   ]
  },
  {
   "cell_type": "code",
   "execution_count": 11,
   "metadata": {},
   "outputs": [
    {
     "name": "stdout",
     "output_type": "stream",
     "text": [
      "DIN sharpness: 3.6876236544360963 acum\n"
     ]
    }
   ],
   "source": [
    "# Import useful packages\n",
    "import numpy as np\n",
    "import matplotlib.pyplot as plt\n",
    "\n",
    "# Import MOSQITO functions\n",
    "from mosqito.functions.shared.load import load\n",
    "from mosqito.functions.sharpness.comp_sharpness import comp_sharpness\n",
    "\n",
    "# Load signal \n",
    "signal, fs = load(\n",
    "    True,\n",
    "    r\"..\\mosqito\\validations\\sharpness\\data\\Check_signals_DIN_45692_(Schaerfe)\\Broadband_noise(fo=10kHz_fu=variabel)\\LC2500.WAV\", \n",
    "    calib = 1\n",
    ")\n",
    "\n",
    "# Sharpness calculation\n",
    "sharpness = comp_sharpness(True, signal, fs, method=\"din\")\n"
   ]
  },
  {
   "cell_type": "code",
   "execution_count": null,
   "metadata": {},
   "outputs": [],
   "source": []
  }
 ],
 "metadata": {
  "kernelspec": {
   "display_name": "Python 3",
   "language": "python",
   "name": "python3"
  },
  "language_info": {
   "codemirror_mode": {
    "name": "ipython",
    "version": 3
   },
   "file_extension": ".py",
   "mimetype": "text/x-python",
   "name": "python",
   "nbconvert_exporter": "python",
   "pygments_lexer": "ipython3",
   "version": "3.8.3"
  },
  "toc": {
   "base_numbering": "1",
   "nav_menu": {},
   "number_sections": true,
   "sideBar": true,
   "skip_h1_title": true,
   "title_cell": "Table of Contents",
   "title_sidebar": "Contents",
   "toc_cell": true,
   "toc_position": {},
   "toc_section_display": true,
   "toc_window_display": false
  }
 },
 "nbformat": 4,
 "nbformat_minor": 4
}
