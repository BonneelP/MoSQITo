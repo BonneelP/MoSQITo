{
 "cells": [
  {
   "cell_type": "markdown",
   "metadata": {},
   "source": [
    "# How to calculate Sharpness from .wav file (steady signal)"
   ]
  },
  {
   "cell_type": "markdown",
   "metadata": {},
   "source": [
    "MOSQITO is a unified and modular development framework of key sound quality metrics favoring reproducible science and efficient shared scripting among engineers, teachers and researchers community.\n",
    "\n",
    "This tutorial explains how to calculate the acoustic sharpness of a steady signal from its loudness and specific loudness values (Zwicker method) as described in DIN 45692_2009E."
   ]
  },
  {
   "cell_type": "code",
   "execution_count": 1,
   "metadata": {},
   "outputs": [],
   "source": [
    "# Add MOSQITO to the Python path\n",
    "import sys\n",
    "sys.path.append('..')\n",
    "\n",
    "# Import useful packages\n",
    "import numpy as np\n",
    "\n",
    "# Import MOSQITO module\n",
    "from mosqito.functions.shared.load import load\n",
    "from mosqito.functions.sharpness.comp_sharpness import comp_sharpness"
   ]
  },
  {
   "cell_type": "markdown",
   "metadata": {},
   "source": [
    "For this tutorial is used a broad-band test noise from DIN 45692_2009E with a center frequency of 2500Hz.\n",
    "The signal is loaded with the \"load\" function."
   ]
  },
  {
   "cell_type": "code",
   "execution_count": 2,
   "metadata": {},
   "outputs": [],
   "source": [
    "# Load signal \n",
    "sig, fs = load(True,r\"..\\mosqito\\validations\\sharpness\\data\\Check_signals_DIN_45692_(Schaerfe)\\Broadband_noise(fo=10kHz_fu=variabel)\\LC2500.WAV\")"
   ]
  },
  {
   "cell_type": "markdown",
   "metadata": {},
   "source": [
    "Then the sharpness is calculated with the 'comp_sharpness' function which automatically does the loudness calculation needed. The method chosen to do the calculation is given as a parameter (the parameter 'all' launches all the different calculation methods).\n"
   ]
  },
  {
   "cell_type": "code",
   "execution_count": 4,
   "metadata": {},
   "outputs": [
    {
     "name": "stdout",
     "output_type": "stream",
     "text": [
      "DIN sharpness: 3.6876236544360963 acum\n"
     ]
    }
   ],
   "source": [
    "sharpness = comp_sharpness(True, sig, fs, method='din')"
   ]
  },
  {
   "cell_type": "markdown",
   "metadata": {},
   "source": [
    "The reference value given in DIN 45692 for this signal is 3.69, therefore the Mosqito implementation of the 'din' method fills the compliance with the standard for this signal (5% or 0.05 tolerance).\n",
    "\n",
    "Mosqito offers several other calculation methods for the sharpness, which can be computed by changing the 'method' parameter :\n"
   ]
  },
  {
   "cell_type": "code",
   "execution_count": 5,
   "metadata": {},
   "outputs": [
    {
     "name": "stdout",
     "output_type": "stream",
     "text": [
      "Bismarck sharpness: 3.4708017062520145 acum\n",
      "Fastl sharpness: 3.321735750475353 acum\n",
      "Aures sharpness: 5.083057395100374 acum\n"
     ]
    }
   ],
   "source": [
    "# Comparison with other methods\n",
    "sharpness = comp_sharpness(True, sig, fs, method='bismarck')\n",
    "sharpness = comp_sharpness(True, sig, fs, method='fastl')\n",
    "sharpness = comp_sharpness(True, sig, fs, method='aures')"
   ]
  },
  {
   "cell_type": "markdown",
   "metadata": {},
   "source": [
    "The values slightly differ due to the weighting functions differences, except for Aures calculation which differ more (the weighting function takes into account the global loudness value)."
   ]
  },
  {
   "cell_type": "code",
   "execution_count": null,
   "metadata": {},
   "outputs": [],
   "source": []
  }
 ],
 "metadata": {
  "kernelspec": {
   "display_name": "Python 3",
   "language": "python",
   "name": "python3"
  },
  "language_info": {
   "codemirror_mode": {
    "name": "ipython",
    "version": 3
   },
   "file_extension": ".py",
   "mimetype": "text/x-python",
   "name": "python",
   "nbconvert_exporter": "python",
   "pygments_lexer": "ipython3",
   "version": "3.8.5"
  }
 },
 "nbformat": 4,
 "nbformat_minor": 4
}
