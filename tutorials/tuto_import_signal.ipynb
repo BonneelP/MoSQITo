{
 "cells": [
  {
   "cell_type": "markdown",
   "metadata": {
    "toc": true
   },
   "source": [
    "<h1>Table of Contents<span class=\"tocSkip\"></span></h1>\n",
    "<div class=\"toc\"><ul class=\"toc-item\"><li><span>\n",
    "    \n",
    "    <a href=\"#Using-the-scripting-interface\" data-toc-modified-id=\"Using-the-scripting-interface-1\"><span class=\"toc-item-num\">1&nbsp;&nbsp;</span>Using the scripting interface</a></span><ul class=\"toc-item\"><li><span><a href=\"#Stationary-.wav-signal\" data-toc-modified-id=\"Stationary-.wav-signal\"><span class=\"toc-item-num\">1.1&nbsp;&nbsp;</span>Stationary .wav signal</a></span></li><li><span><a href=\"#Time-varying-.wav-signal\" data-toc-modified-id=\"Time-varying-.wav-signal-1.2\"><span class=\"toc-item-num\">1.2&nbsp;&nbsp;</span>Time varying .wav signal</a></span></li></ul></li><li><span>\n",
    "    \n",
    "    \n",
    "    <a href=\"#Using-the-function-library\" data-toc-modified-id=\"Using-the-function-library-2\"><span class=\"toc-item-num\">2&nbsp;&nbsp;</span>Using the function library</a></span><ul class=\"toc-item\"><li><span><a href=\"#Stationary-.wav-signal\" data-toc-modified-id=\"Stationary-.wav-signal-2.1\"><span class=\"toc-item-num\">2.1&nbsp;&nbsp;</span>Stationary .wav signal</a></span></li><li><span><a href=\"#Time-varying-.wav-signal\" data-toc-modified-id=\"Time-varying-.wav-signal-2.2\"><span class=\"toc-item-num\">2.2&nbsp;&nbsp;</span>Time-varying .wav signal</a></span></li></ul></li></ul></div>"
   ]
  },
  {
   "cell_type": "markdown",
   "metadata": {},
   "source": [
    "# How to import an audio signal\n",
    "\n",
    "This tutorial explains how to use MOSQITO to import an acoustic signal. Two approaches are possible: scripting interface and function library. The users who just need to compute SQ metrics should preferably use the scripting interface approach. The function library approach is dedicated to users who would like to integrate MOSQITO functions in another software for instance.\n",
    "At the moment, three file types are supported : .wav/.uff/.mat\n",
    "\n",
    "## Using the scripting interface\n",
    "The creation of an Audio object is done by importing an audio file. \n",
    "Three arguments are needed :\n",
    " - the file path,\n",
    " - a calibration factor for the signal to be in Pa. Default is set to 1.\n",
    " - a boolean to indicate either the signal is stationary (True) or time-varying (False). Default is set to False.\n",
    "\n",
    "The function automatically detects the file type, in this example, the signal is imported from a .wav file.\n",
    "Check the tutorial [Audio signal basic operations](./signal_basic_operations.ipynb) to learn how to plot the time signal, compute and plot its 1/3 octave band spectrum, compute its overall level, etc.\n",
    "\n",
    "### Stationary .wav signal"
   ]
  },
  {
   "cell_type": "code",
   "execution_count": 1,
   "metadata": {},
   "outputs": [],
   "source": [
    "# Add MOSQITO to the Python path\n",
    "import sys\n",
    "sys.path.append('..')\n",
    "\n",
    "# Import MOSQITO color sheme [Optional]\n",
    "from mosqito import COLORS\n",
    "\n",
    "# Import Audio class\n",
    "from mosqito.classes.Audio import Audio\n",
    "\n",
    "# Create an Audio object\n",
    "pinknoise = Audio(\n",
    "    \"../mosqito/validations/loudness_zwicker/data/ISO_532-1/Test signal 5 (pinknoise 60 dB).wav\",\n",
    "    calib=2 * 2 ** 0.5,\n",
    "    is_stationary=True,\n",
    ")"
   ]
  },
  {
   "cell_type": "markdown",
   "metadata": {},
   "source": [
    "### Time-varying .wav signal"
   ]
  },
  {
   "cell_type": "code",
   "execution_count": 2,
   "metadata": {},
   "outputs": [],
   "source": [
    "# Create another Audio object\n",
    "woodpecker = Audio(\n",
    "    \"../mosqito/validations/loudness_zwicker/data/ISO_532-1/Annex B.5/Test signal 24 (woodpecker).wav\",\n",
    "    calib=2 * 2 ** 0.5\n",
    ")"
   ]
  },
  {
   "cell_type": "markdown",
   "metadata": {},
   "source": [
    "## Using the function library\n",
    "\n",
    "MOSQITO library offers an import function suuporting .wav .uff and .mat files.\n",
    "\n",
    "Three arguments are needed :\n",
    " - a boolean to indicate either the signal is stationary (True) or time-varying (False). Default is set to False.\n",
    " - the file path.\n",
    " - a calibration factor for the signal to be in Pa. Default is set to 1.\n",
    " \n",
    "The function returns the time signal and the sampling frequency.\n",
    "\n",
    " \n",
    " ### Stationary .wav signal"
   ]
  },
  {
   "cell_type": "code",
   "execution_count": null,
   "metadata": {},
   "outputs": [],
   "source": [
    "# Import useful packages\n",
    "import numpy as np\n",
    "import matplotlib.pyplot as plt\n",
    "\n",
    "# Import MOSQITO functions\n",
    "from mosqito.functions.shared.load import load\n",
    "\n",
    "# Load stationary signal \n",
    "pink_signal, pink_fs = load(\n",
    "    is_stationary = True,\n",
    "    \"../mosqito/validations/loudness_zwicker/data/ISO_532-1/Test signal 5 (pinknoise 60 dB).wav\", \n",
    "    calib = 2 * 2**0.5 \n",
    ")\n",
    "\n"
   ]
  },
  {
   "cell_type": "markdown",
   "metadata": {},
   "source": [
    "### Time-varying .wav signal"
   ]
  },
  {
   "cell_type": "code",
   "execution_count": null,
   "metadata": {},
   "outputs": [],
   "source": [
    "\n",
    "# Load time-varying signal \n",
    "woodpecker_signal, woodpecker_fs = load(\n",
    "    is_stationary = False,\n",
    "    \"../mosqito/validations/loudness_zwicker/data/ISO_532-1/Annex B.5/Test signal 24 (woodpecker).wav\", \n",
    "    calib = 2 * 2**0.5 \n",
    ")"
   ]
  }
 ],
 "metadata": {
  "kernelspec": {
   "display_name": "Python 3",
   "language": "python",
   "name": "python3"
  },
  "language_info": {
   "codemirror_mode": {
    "name": "ipython",
    "version": 3
   },
   "file_extension": ".py",
   "mimetype": "text/x-python",
   "name": "python",
   "nbconvert_exporter": "python",
   "pygments_lexer": "ipython3",
   "version": "3.8.3"
  },
  "toc": {
   "base_numbering": 1,
   "nav_menu": {},
   "number_sections": true,
   "sideBar": true,
   "skip_h1_title": true,
   "title_cell": "Table of Contents",
   "title_sidebar": "Contents",
   "toc_cell": true,
   "toc_position": {},
   "toc_section_display": true,
   "toc_window_display": false
  }
 },
 "nbformat": 4,
 "nbformat_minor": 4
}
