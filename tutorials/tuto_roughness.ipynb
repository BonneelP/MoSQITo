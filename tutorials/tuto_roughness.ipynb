{
 "cells": [
  {
   "cell_type": "markdown",
   "metadata": {},
   "source": [
    "<h1>Table of Contents</h1>\n",
    "<ul class=\"toc\"><li><span><a href=\"#Using-the-scripting-interface\" data-toc-modified-id=\"Using-the-scripting-interface-1\"><span class=\"toc-num\">1&nbsp;&nbsp;</span>By using the scripting interface</a></span>\n",
    "<ul class=\"toc\"><li><span><a href=\"#Using-the-funtion-library\" data-toc-modified-id=\"Using-the-funtion-library-2\"><span class=\"toc-num\">2&nbsp;&nbsp;</span>By using the funtion library</a></span>"
   ]
  },
  {
   "cell_type": "markdown",
   "metadata": {},
   "source": [
    "\n",
    "# How to compute acoustic Roughness\n",
    "This tutorial explains how to use MOSQITO to compute the acoustic roughness of a signal. Two approaches are possible: scripting interface and function library. The users that just need to compute SQ metrics should preferably use the scripting interface approach. The function library approach is dedicated to the users that would like to integrate MOSQITO functions in another software for instance.\n",
    "\n",
    "## Using the scripting interface\n",
    "\n",
    "An Audio object is first created by importing an audio file. In this example, the signal is imported from a .wav file. The tutorial [how to import a signal](./tuto_import_signal.ipynb) gives more information about the syntax of the import and the other supported files type. Check the tutorial [Audio signal basic operations](./signal_basic_operations.ipynb) to learn how to plot the time signal, compute and plot its 1/3 octave band spectrum, compute its overall level, etc.\n",
    "\n",
    "For this tutorial, the test signal .wav file has been generated using the \"test_signal_generation\" script.\n",
    "According to the roughness definition, an amplitude-modulated tone with a carrier frequency of 1 kHz and a modulation frequency of 70 Hz at a level of 60 dB should correspond to a roughness of 1 asper for a modulation depth of 1. "
   ]
  },
  {
   "cell_type": "code",
   "execution_count": 1,
   "metadata": {},
   "outputs": [
    {
     "name": "stdout",
     "output_type": "stream",
     "text": [
      "Signal resampled to 48 kHz to allow calculation.\n"
     ]
    }
   ],
   "source": [
    "# Add MOSQITO to the Python path\n",
    "import sys\n",
    "sys.path.append('..')\n",
    "\n",
    "# Import MOSQITO color sheme [Optional]\n",
    "from mosqito import COLORS\n",
    "\n",
    "# Import Audio class\n",
    "from mosqito.classes.Audio import Audio\n",
    "\n",
    "# Create an Audio object\n",
    "signal = Audio(\n",
    "    \"../mosqito/validations/roughness_danielweber/Sounds/Test_signal_fc1000_fmod70.wav\")"
   ]
  },
  {
   "cell_type": "markdown",
   "metadata": {},
   "source": [
    "The acoustic sharpness is computed using the following command line. The function takes 1 input argument \"overlap\" that indicates thz overlapping coefficient for the time windows of 200ms (default is 0.5).\n",
    "\n",
    "\n",
    "The roughness is computed according to the Daniel and Weber method (see the corresponding [documentation](../documentation/roughness.md) for more information) "
   ]
  },
  {
   "cell_type": "code",
   "execution_count": 2,
   "metadata": {},
   "outputs": [
    {
     "name": "stdout",
     "output_type": "stream",
     "text": [
      "Roughness is being calculated\n"
     ]
    }
   ],
   "source": [
    "signal.compute_roughness()"
   ]
  },
  {
   "cell_type": "markdown",
   "metadata": {},
   "source": [
    "The preceeding command computes the roughpness of the audio signal as a function of time. Its value can be plotted with the following command. The \"time\" argument indicates that the sharpness shall be plotted over time. The optional type_plot argument is obviously used to specifies the plot type (among \"curve\", \"bargraph\", \"barchart\" and \"quiver\"). The optional color_list argument is used to specify the color scheme used for the plots."
   ]
  },
  {
   "cell_type": "code",
   "execution_count": 3,
   "metadata": {},
   "outputs": [
    {
     "ename": "IndexError",
     "evalue": "list index out of range",
     "output_type": "error",
     "traceback": [
      "\u001b[1;31m---------------------------------------------------------------------------\u001b[0m",
      "\u001b[1;31mIndexError\u001b[0m                                Traceback (most recent call last)",
      "\u001b[1;32m<ipython-input-3-088a15b40416>\u001b[0m in \u001b[0;36m<module>\u001b[1;34m\u001b[0m\n\u001b[1;32m----> 1\u001b[1;33m signal.roughness[\"Daniel Weber\"].plot_2D_Data(\n\u001b[0m\u001b[0;32m      2\u001b[0m     \u001b[1;34m\"time\"\u001b[0m\u001b[1;33m,\u001b[0m\u001b[1;33m\u001b[0m\u001b[1;33m\u001b[0m\u001b[0m\n\u001b[0;32m      3\u001b[0m     \u001b[0mtype_plot\u001b[0m\u001b[1;33m=\u001b[0m\u001b[1;34m\"curve\"\u001b[0m\u001b[1;33m,\u001b[0m\u001b[1;33m\u001b[0m\u001b[1;33m\u001b[0m\u001b[0m\n\u001b[0;32m      4\u001b[0m     \u001b[0mcolor_list\u001b[0m\u001b[1;33m=\u001b[0m\u001b[0mCOLORS\u001b[0m\u001b[1;33m,\u001b[0m\u001b[1;33m\u001b[0m\u001b[1;33m\u001b[0m\u001b[0m\n\u001b[0;32m      5\u001b[0m )\n",
      "\u001b[1;32mc:\\users\\salomé\\documents\\scidatatool\\SciDataTool\\Methods\\DataND\\plot_2D_Data.py\u001b[0m in \u001b[0;36mplot_2D_Data\u001b[1;34m(self, is_norm, unit, data_list, legend_list, color_list, curve_colors, phase_colors, linestyles, linewidth_list, save_path, x_min, x_max, y_min, y_max, is_logscale_x, is_logscale_y, is_disp_title, is_grid, is_auto_ticks, is_auto_range, fig, ax, barwidth, type_plot, fund_harm_dict, is_show_fig, win_title, thresh, font_name, font_size_title, font_size_label, font_size_legend, *arg_list)\u001b[0m\n\u001b[0;32m    166\u001b[0m                 \u001b[0mresult_0\u001b[0m \u001b[1;33m=\u001b[0m \u001b[0mresult\u001b[0m\u001b[1;33m\u001b[0m\u001b[1;33m\u001b[0m\u001b[0m\n\u001b[0;32m    167\u001b[0m             \u001b[0mYdatas\u001b[0m\u001b[1;33m.\u001b[0m\u001b[0mappend\u001b[0m\u001b[1;33m(\u001b[0m\u001b[0mresult\u001b[0m\u001b[1;33m.\u001b[0m\u001b[0mpop\u001b[0m\u001b[1;33m(\u001b[0m\u001b[0md\u001b[0m\u001b[1;33m.\u001b[0m\u001b[0msymbol\u001b[0m\u001b[1;33m)\u001b[0m\u001b[1;33m)\u001b[0m\u001b[1;33m\u001b[0m\u001b[1;33m\u001b[0m\u001b[0m\n\u001b[1;32m--> 168\u001b[1;33m             \u001b[0mXdatas\u001b[0m\u001b[1;33m.\u001b[0m\u001b[0mappend\u001b[0m\u001b[1;33m(\u001b[0m\u001b[0mresult\u001b[0m\u001b[1;33m[\u001b[0m\u001b[0mlist\u001b[0m\u001b[1;33m(\u001b[0m\u001b[0mresult\u001b[0m\u001b[1;33m)\u001b[0m\u001b[1;33m[\u001b[0m\u001b[1;36m0\u001b[0m\u001b[1;33m]\u001b[0m\u001b[1;33m]\u001b[0m\u001b[1;33m)\u001b[0m\u001b[1;33m\u001b[0m\u001b[1;33m\u001b[0m\u001b[0m\n\u001b[0m\u001b[0;32m    169\u001b[0m \u001b[1;33m\u001b[0m\u001b[0m\n\u001b[0;32m    170\u001b[0m     \u001b[1;31m# Find main axis as the axis with the most values\u001b[0m\u001b[1;33m\u001b[0m\u001b[1;33m\u001b[0m\u001b[1;33m\u001b[0m\u001b[0m\n",
      "\u001b[1;31mIndexError\u001b[0m: list index out of range"
     ]
    }
   ],
   "source": [
    "signal.roughness[\"Daniel Weber\"].plot_2D_Data(\n",
    "    \"time\",\n",
    "    type_plot=\"curve\",\n",
    "    color_list=COLORS,\n",
    ")"
   ]
  },
  {
   "cell_type": "markdown",
   "metadata": {},
   "source": [
    "## Using the funtion library\n",
    "\n",
    "The commands below shows how to compute the sharpness of a time varying signal (same for a steady signal) by directly using the functions from MOSQITO. "
   ]
  },
  {
   "cell_type": "code",
   "execution_count": null,
   "metadata": {},
   "outputs": [],
   "source": [
    "# Add MOSQITO to the Python path\n",
    "import sys\n",
    "sys.path.append('..')\n",
    "\n",
    "# Import useful packages\n",
    "import math\n",
    "import numpy as np\n",
    "import matplotlib.pyplot as plt\n",
    "\n",
    "# Import MOSQITO modules\n",
    "from mosqito.functions.shared.load import load\n",
    "from mosqito.functions.roughness_danielweber.comp_roughness import comp_roughness"
   ]
  },
  {
   "cell_type": "markdown",
   "metadata": {},
   "source": [
    "The signal is loaded using the \"load\" function which takes 3 parameters:\n",
    " - The signal type as a boolean: *True since the signal is stationary*\n",
    " - The path to the .wav signal file: *The file belongs to the \"tests/roughness/data/Sounds\" folder*\n",
    " - A calibration factor for the signal to be in Pa: *A value of 2√2 corresponds test signal generation process*"
   ]
  },
  {
   "cell_type": "code",
   "execution_count": null,
   "metadata": {},
   "outputs": [],
   "source": [
    "# Load signal and compute third-octave spectrum\n",
    "signal, fs = load(True,'../mosqito/validations/roughness_danielweber/Sounds/Test_signal_fc1000_fmod70.wav') \n",
    "\n",
    "# Plot amplitude-modulated tone\n",
    "time = np.linspace(0, len(signal)/fs, len(signal))\n",
    "plt.plot(time, signal)\n",
    "plt.xlim(0, 0.4) \n",
    "plt.xlabel(\"Time[s]\")\n",
    "plt.ylabel(\"Amplitude\")\n",
    "plt.show()"
   ]
  },
  {
   "cell_type": "markdown",
   "metadata": {},
   "source": [
    "The function \"comp_roughness\" is then used with 3 parameters:\n",
    " - The signal values,\n",
    " - The sampling frequency,\n",
    " - An overlap proportion between 0 and 1.\n",
    " \n",
    "The script calculates the roughness R in asper and also returns the time axis corresponding to the points of interests with the given overlapping proportion."
   ]
  },
  {
   "cell_type": "code",
   "execution_count": null,
   "metadata": {},
   "outputs": [],
   "source": [
    "roughness = comp_roughness(signal, fs, overlap=0)\n",
    "\n",
    "plt.plot(roughness['time'], roughness['values'])\n",
    "plt.ylim(0, 1.4) \n",
    "plt.xlabel(\"Time [s]\")\n",
    "plt.ylabel(\"Roughness [asper]\")\n",
    "plt.show()"
   ]
  },
  {
   "cell_type": "code",
   "execution_count": null,
   "metadata": {},
   "outputs": [],
   "source": []
  }
 ],
 "metadata": {
  "kernelspec": {
   "display_name": "Python 3",
   "language": "python",
   "name": "python3"
  },
  "language_info": {
   "codemirror_mode": {
    "name": "ipython",
    "version": 3
   },
   "file_extension": ".py",
   "mimetype": "text/x-python",
   "name": "python",
   "nbconvert_exporter": "python",
   "pygments_lexer": "ipython3",
   "version": "3.8.3"
  }
 },
 "nbformat": 4,
 "nbformat_minor": 4
}
