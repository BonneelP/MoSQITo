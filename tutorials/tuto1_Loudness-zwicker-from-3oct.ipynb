{
 "cells": [
  {
   "cell_type": "markdown",
   "metadata": {},
   "source": [
    "# How to calculate Zwicker loudness from third octave band spectrum"
   ]
  },
  {
   "cell_type": "markdown",
   "metadata": {},
   "source": [
    "MoSQITo is a unified and modular development framework of key sound quality metrics favoring reproducible science and efficient shared scripting among engineers, teachers and researchers community.\n",
    "\n",
    "This tutorial explains how to calculate the acoustic loudness (Zwicker method) of a steady signal from its third octave band spectrum."
   ]
  },
  {
   "cell_type": "code",
   "execution_count": 1,
   "metadata": {},
   "outputs": [],
   "source": [
    "# Add MoSQITo to the Python path\n",
    "import sys\n",
    "sys.path.append('..')\n",
    "\n",
    "# Import useful packages\n",
    "import numpy as np\n",
    "import matplotlib.pyplot as plt\n",
    "\n",
    "# Import MoSQITo module\n",
    "from mosqito.functions.loudness_zwicker.comp_loudness import comp_loudness_from_3spec"
   ]
  },
  {
   "cell_type": "markdown",
   "metadata": {},
   "source": [
    "First a third octave band spectrum is defined. The spectrum shall include 28 third octave levels from 25 Hz to 12500 Hz in dB re. $2.10^{-5}$ Pa. For the tutorial, the test signal from ISO 532-1 annex B2 is used (machinery noise in free field). "
   ]
  },
  {
   "cell_type": "code",
   "execution_count": 2,
   "metadata": {},
   "outputs": [],
   "source": [
    "# Third octave levels as input for stationary loudness\n",
    "# (from ISO 532-1 annex B2)\n",
    "test_signal_1 = np.array([\n",
    "    -60,\n",
    "    -60,\n",
    "    78,\n",
    "    79,\n",
    "    89,\n",
    "    72,\n",
    "    80,\n",
    "    89,\n",
    "    75,\n",
    "    87,\n",
    "    85,\n",
    "    79,\n",
    "    86,\n",
    "    80,\n",
    "    71,\n",
    "    70,\n",
    "    72,\n",
    "    71,\n",
    "    72,\n",
    "    74,\n",
    "    69,\n",
    "    65,\n",
    "    67,\n",
    "    77,\n",
    "    68,\n",
    "    58,\n",
    "    45,\n",
    "    30.0])"
   ]
  },
  {
   "cell_type": "markdown",
   "metadata": {},
   "source": [
    "Then the function \"comp_loudness\" is called with three parameters: \n",
    "\n",
    " - is_stationary: boolean    \n",
    "True since the signal is stationary  \n",
    "    \n",
    " - spec_third: numpy.array   \n",
    "the third-octave spectrum test_signal_1\n",
    "    \n",
    " - field_type: string  \n",
    "'free'  \n",
    "\n",
    "The script calculates the loudness *N* in sones, the specific loudness *N_specific* in sones/Bark and the corresponding critical band rate scale *bark_axis* in Bark."
   ]
  },
  {
   "cell_type": "code",
   "execution_count": 3,
   "metadata": {
    "scrolled": true
   },
   "outputs": [
    {
     "name": "stdout",
     "output_type": "stream",
     "text": [
      "Loudness = 83.3 sone\n"
     ]
    },
    {
     "data": {
      "image/png": "[encoded data removed]",
      "text/plain": [
       "<Figure size 432x288 with 1 Axes>"
      ]
     },
     "metadata": {
      "needs_background": "light"
     },
     "output_type": "display_data"
    }
   ],
   "source": [
    "loudness = comp_loudness_from_3spec(True, test_signal_1, field_type=\"free\")\n",
    "print('Loudness = ' + str(loudness['values']) + ' sone')\n",
    "plt.plot(loudness['freqs'], loudness['specific values'])\n",
    "plt.xlabel(\"Critical band rate [Bark]\")\n",
    "plt.ylabel(\"Specific loudness, [sones/Bark]\")\n",
    "plt.show()"
   ]
  },
  {
   "cell_type": "code",
   "execution_count": null,
   "metadata": {},
   "outputs": [],
   "source": []
  }
 ],
 "metadata": {
  "kernelspec": {
   "display_name": "Python 3",
   "language": "python",
   "name": "python3"
  },
  "language_info": {
   "codemirror_mode": {
    "name": "ipython",
    "version": 3
   },
   "file_extension": ".py",
   "mimetype": "text/x-python",
   "name": "python",
   "nbconvert_exporter": "python",
   "pygments_lexer": "ipython3",
   "version": "3.8.5"
  }
 },
 "nbformat": 4,
 "nbformat_minor": 4
}
