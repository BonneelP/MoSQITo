{
 "cells": [
  {
   "cell_type": "markdown",
   "metadata": {},
   "source": [
    "<h1>Table of Contents<span class=\"tocSkip\"></span></h1>\n",
    "<div class=\"toc\"><ul class=\"toc-item\"><li><span><a href=\"#By-using-the-scripting-interface\" data-toc-modified-id=\"By-using-the-scripting-interface-1\"><span class=\"toc-item-num\">1&nbsp;&nbsp;</span>By using the scripting interface</a></span><ul class=\"toc-item\"><li><span><a href=\"#Time-varying-signal\" data-toc-modified-id=\"Time-varying-signal-1.1\"><span class=\"toc-item-num\">1.1&nbsp;&nbsp;</span>Time varying signal</a></span></li><li><span><a href=\"#Steady-signal\" data-toc-modified-id=\"Steady-signal-1.2\"><span class=\"toc-item-num\">1.2&nbsp;&nbsp;</span>Steady signal</a></span></li></ul></li><li><span><a href=\"#By-using-the-funtion-library\" data-toc-modified-id=\"By-using-the-funtion-library-2\"><span class=\"toc-item-num\">2&nbsp;&nbsp;</span>By using the funtion library</a></span><ul class=\"toc-item\"><li><span><a href=\"#Time-varying-signal\" data-toc-modified-id=\"Time-varying-signal-2.1\"><span class=\"toc-item-num\">2.1&nbsp;&nbsp;</span>Time varying signal</a></span></li><li><span><a href=\"#Steady-signal\" data-toc-modified-id=\"Steady-signal-2.2\"><span class=\"toc-item-num\">2.2&nbsp;&nbsp;</span>Steady signal</a></span></li></ul></li></ul></div>"
   ]
  },
  {
   "cell_type": "markdown",
   "metadata": {},
   "source": [
    "\n",
    "# How to compute tone-to-noise and prominence ratios\n",
    "This tutorial explains how to use MOSQITO to compute the TNR and PR, indicating the proeminence of tonal components in a signal. Two approaches are possible: scripting interface and function library. The users that just need to compute SQ metrics should preferably use the scripting interface approach. The function library approach is dedicated to the users that would like to integrate MOSQITO functions in another software for instance.\n",
    "\n",
    "## By using the scripting interface\n",
    "### Time varying signal\n",
    "An Audio object is first created by importing an audio file. In this example, the signal is imported from a .wav file. The tutorial [how to import a signal](./tuto_import_signal.ipynb) gives more information about the syntax of the import and the other supported files type. Check the tutorial [Audio signal basic operations](./signal_basic_operations.ipynb) to learn how to plot the time signal, compute and plot its 1/3 octave band spectrum, compute its overall level, etc."
   ]
  },
  {
   "cell_type": "markdown",
   "metadata": {},
   "source": [
    "work in progress"
   ]
  },
  {
   "cell_type": "markdown",
   "metadata": {},
   "source": [
    "### Steady signal\n",
    "For a steady signal, the syntax is almost equivalent, see below."
   ]
  },
  {
   "cell_type": "markdown",
   "metadata": {},
   "source": [
    "work in progress"
   ]
  },
  {
   "cell_type": "markdown",
   "metadata": {},
   "source": [
    "## By using the funtion library\n",
    "### Time varying signal\n",
    "The commands below shows how to compute the TNR and PR of a time varying signal by directly using the functions from MOSQITO. "
   ]
  },
  {
   "cell_type": "markdown",
   "metadata": {},
   "source": [
    "work in progress"
   ]
  },
  {
   "cell_type": "markdown",
   "metadata": {},
   "source": [
    "### Steady signal\n",
    "The commands below shows how to compute the TNR and PR of a steady signal by directly using the functions from MOSQITO. "
   ]
  },
  {
   "cell_type": "markdown",
   "metadata": {},
   "source": [
    "work in progress"
   ]
  }
 ],
 "metadata": {
  "kernelspec": {
   "display_name": "Python 3",
   "language": "python",
   "name": "python3"
  },
  "language_info": {
   "codemirror_mode": {
    "name": "ipython",
    "version": 3
   },
   "file_extension": ".py",
   "mimetype": "text/x-python",
   "name": "python",
   "nbconvert_exporter": "python",
   "pygments_lexer": "ipython3",
   "version": "3.8.3"
  }
 },
 "nbformat": 4,
 "nbformat_minor": 4
}
